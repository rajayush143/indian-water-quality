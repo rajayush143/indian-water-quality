{
 "cells": [
  {
   "cell_type": "markdown",
   "metadata": {},
   "source": [
    "# Importing the Data"
   ]
  },
  {
   "cell_type": "markdown",
   "metadata": {},
   "source": [
    "Here, I'm importing the data as a csv file from my laptop."
   ]
  },
  {
   "cell_type": "code",
   "execution_count": 1,
   "metadata": {},
   "outputs": [
    {
     "data": {
      "text/html": [
       "<div>\n",
       "<style scoped>\n",
       "    .dataframe tbody tr th:only-of-type {\n",
       "        vertical-align: middle;\n",
       "    }\n",
       "\n",
       "    .dataframe tbody tr th {\n",
       "        vertical-align: top;\n",
       "    }\n",
       "\n",
       "    .dataframe thead th {\n",
       "        text-align: right;\n",
       "    }\n",
       "</style>\n",
       "<table border=\"1\" class=\"dataframe\">\n",
       "  <thead>\n",
       "    <tr style=\"text-align: right;\">\n",
       "      <th></th>\n",
       "      <th>Sample Number</th>\n",
       "      <th>Sample Date</th>\n",
       "      <th>Sample Time</th>\n",
       "      <th>Sample Site</th>\n",
       "      <th>Sample class</th>\n",
       "      <th>Location</th>\n",
       "      <th>Residual Free Chlorine (mg/L)</th>\n",
       "      <th>Turbidity (NTU)</th>\n",
       "      <th>Fluoride (mg/L)</th>\n",
       "      <th>Coliform (Quanti-Tray) (MPN /100mL)</th>\n",
       "      <th>E.coli(Quanti-Tray) (MPN/100mL)</th>\n",
       "    </tr>\n",
       "  </thead>\n",
       "  <tbody>\n",
       "    <tr>\n",
       "      <th>0</th>\n",
       "      <td>32355.0</td>\n",
       "      <td>2019-10-31T00:00:00.000</td>\n",
       "      <td>8:23</td>\n",
       "      <td>24950</td>\n",
       "      <td>Compliance</td>\n",
       "      <td>SS - IFO 1169 N/S East New York Ave, 2nd SS W/...</td>\n",
       "      <td>0.42</td>\n",
       "      <td>0.61</td>\n",
       "      <td>NaN</td>\n",
       "      <td>&lt;1</td>\n",
       "      <td>&lt;1</td>\n",
       "    </tr>\n",
       "    <tr>\n",
       "      <th>1</th>\n",
       "      <td>32320.0</td>\n",
       "      <td>2019-10-31T00:00:00.000</td>\n",
       "      <td>11:14</td>\n",
       "      <td>13550</td>\n",
       "      <td>Compliance</td>\n",
       "      <td>SS - IFO 2015 W/S University Ave, 1st SS S/O W...</td>\n",
       "      <td>0.45</td>\n",
       "      <td>0.59</td>\n",
       "      <td>NaN</td>\n",
       "      <td>&lt;1</td>\n",
       "      <td>&lt;1</td>\n",
       "    </tr>\n",
       "    <tr>\n",
       "      <th>2</th>\n",
       "      <td>32357.0</td>\n",
       "      <td>2019-10-31T00:00:00.000</td>\n",
       "      <td>11:33</td>\n",
       "      <td>50200</td>\n",
       "      <td>Operational</td>\n",
       "      <td>SS - IFO 93 N/S Austin Place, BTW Victory Blvd...</td>\n",
       "      <td>0.74</td>\n",
       "      <td>0.63</td>\n",
       "      <td>NaN</td>\n",
       "      <td>&lt;1</td>\n",
       "      <td>&lt;1</td>\n",
       "    </tr>\n",
       "    <tr>\n",
       "      <th>3</th>\n",
       "      <td>32353.0</td>\n",
       "      <td>2019-10-31T00:00:00.000</td>\n",
       "      <td>7:47</td>\n",
       "      <td>24650</td>\n",
       "      <td>Compliance</td>\n",
       "      <td>SS - N/S Linden Blvd, 1st SS E/O Bristol St, 12 \"</td>\n",
       "      <td>0.43</td>\n",
       "      <td>0.68</td>\n",
       "      <td>NaN</td>\n",
       "      <td>1</td>\n",
       "      <td>&lt;1</td>\n",
       "    </tr>\n",
       "    <tr>\n",
       "      <th>4</th>\n",
       "      <td>32371.0</td>\n",
       "      <td>2019-10-31T00:00:00.000</td>\n",
       "      <td>9:32</td>\n",
       "      <td>17050</td>\n",
       "      <td>Compliance</td>\n",
       "      <td>SS - IFO 4740 E/S White Plains Rd, 1st SS N/O ...</td>\n",
       "      <td>0.51</td>\n",
       "      <td>0.55</td>\n",
       "      <td>NaN</td>\n",
       "      <td>&lt;1</td>\n",
       "      <td>&lt;1</td>\n",
       "    </tr>\n",
       "  </tbody>\n",
       "</table>\n",
       "</div>"
      ],
      "text/plain": [
       "   Sample Number              Sample Date Sample Time Sample Site  \\\n",
       "0        32355.0  2019-10-31T00:00:00.000        8:23       24950   \n",
       "1        32320.0  2019-10-31T00:00:00.000       11:14       13550   \n",
       "2        32357.0  2019-10-31T00:00:00.000       11:33       50200   \n",
       "3        32353.0  2019-10-31T00:00:00.000        7:47       24650   \n",
       "4        32371.0  2019-10-31T00:00:00.000        9:32       17050   \n",
       "\n",
       "  Sample class                                           Location  \\\n",
       "0   Compliance  SS - IFO 1169 N/S East New York Ave, 2nd SS W/...   \n",
       "1   Compliance  SS - IFO 2015 W/S University Ave, 1st SS S/O W...   \n",
       "2  Operational  SS - IFO 93 N/S Austin Place, BTW Victory Blvd...   \n",
       "3   Compliance  SS - N/S Linden Blvd, 1st SS E/O Bristol St, 12 \"   \n",
       "4   Compliance  SS - IFO 4740 E/S White Plains Rd, 1st SS N/O ...   \n",
       "\n",
       "   Residual Free Chlorine (mg/L) Turbidity (NTU) Fluoride (mg/L)  \\\n",
       "0                           0.42            0.61             NaN   \n",
       "1                           0.45            0.59             NaN   \n",
       "2                           0.74            0.63             NaN   \n",
       "3                           0.43            0.68             NaN   \n",
       "4                           0.51            0.55             NaN   \n",
       "\n",
       "  Coliform (Quanti-Tray) (MPN /100mL) E.coli(Quanti-Tray) (MPN/100mL)  \n",
       "0                                  <1                              <1  \n",
       "1                                  <1                              <1  \n",
       "2                                  <1                              <1  \n",
       "3                                   1                              <1  \n",
       "4                                  <1                              <1  "
      ]
     },
     "execution_count": 1,
     "metadata": {},
     "output_type": "execute_result"
    }
   ],
   "source": [
    "import numpy as np\n",
    "import pandas as pd\n",
    "\n",
    "df = pd.read_csv(r\"C:\\Users\\rajay\\SIG-sustainability-group\\nyc-drinking-water-dataset\\drinking-water-quality-distribution-monitoring-data.csv\", low_memory=False)\n",
    "\n",
    "df.head()"
   ]
  },
  {
   "cell_type": "code",
   "execution_count": 9,
   "metadata": {},
   "outputs": [
    {
     "data": {
      "text/plain": [
       "0        SS - IFO 1169 N/S East New York Ave, 2nd SS W/...\n",
       "1        SS - IFO 2015 W/S University Ave, 1st SS S/O W...\n",
       "2        SS - IFO 93 N/S Austin Place, BTW Victory Blvd...\n",
       "3        SS - N/S Linden Blvd, 1st SS E/O Bristol St, 12 \"\n",
       "4        SS - IFO 4740 E/S White Plains Rd, 1st SS N/O ...\n",
       "                               ...                        \n",
       "72704    SS - IFO 1058 S/S E Gun Hill Rd, 1st SS E/O Ho...\n",
       "72705    SS - IFO 1778 E/S Jerome Ave, 1st SS S/O E 176...\n",
       "72706    SS - IFO 2499 W/S Grand Ave, 1st SS S/O W 190t...\n",
       "72707    SS - IFO 309 N/S E 149th St, 2nd SS W/O Courtl...\n",
       "72708    SS - IFO 177 S/S Sands St, btw Gold & Bridge S...\n",
       "Name: location, Length: 72709, dtype: object"
      ]
     },
     "execution_count": 9,
     "metadata": {},
     "output_type": "execute_result"
    }
   ],
   "source": [
    "df['location']"
   ]
  },
  {
   "cell_type": "markdown",
   "metadata": {},
   "source": [
    "# Doing some Data Exploration\n",
    "\n",
    "I will figure out the inputs, outputs, and what we can pass in as features."
   ]
  },
  {
   "cell_type": "markdown",
   "metadata": {},
   "source": [
    "### First, I will rename the column names so that they're easy to type."
   ]
  },
  {
   "cell_type": "code",
   "execution_count": 2,
   "metadata": {},
   "outputs": [],
   "source": [
    "df.columns = ['sample_number', 'sample_date', 'sample_time', 'sample_site', 'sample_class', \n",
    "              'location', 'residual_free_chlorine', 'turbidity', 'fluoride', 'coliform', 'e.coli']"
   ]
  },
  {
   "cell_type": "markdown",
   "metadata": {},
   "source": [
    "### Next, I will do some general explanation for the dataset."
   ]
  },
  {
   "cell_type": "code",
   "execution_count": 3,
   "metadata": {},
   "outputs": [
    {
     "data": {
      "text/plain": [
       "72709"
      ]
     },
     "execution_count": 3,
     "metadata": {},
     "output_type": "execute_result"
    }
   ],
   "source": [
    "len(df)"
   ]
  },
  {
   "cell_type": "code",
   "execution_count": 4,
   "metadata": {},
   "outputs": [
    {
     "data": {
      "text/plain": [
       "Index(['sample_number', 'sample_date', 'sample_time', 'sample_site',\n",
       "       'sample_class', 'location', 'residual_free_chlorine', 'turbidity',\n",
       "       'fluoride', 'coliform', 'e.coli'],\n",
       "      dtype='object')"
      ]
     },
     "execution_count": 4,
     "metadata": {},
     "output_type": "execute_result"
    }
   ],
   "source": [
    "df.columns"
   ]
  },
  {
   "cell_type": "code",
   "execution_count": 5,
   "metadata": {},
   "outputs": [
    {
     "data": {
      "text/html": [
       "<div>\n",
       "<style scoped>\n",
       "    .dataframe tbody tr th:only-of-type {\n",
       "        vertical-align: middle;\n",
       "    }\n",
       "\n",
       "    .dataframe tbody tr th {\n",
       "        vertical-align: top;\n",
       "    }\n",
       "\n",
       "    .dataframe thead th {\n",
       "        text-align: right;\n",
       "    }\n",
       "</style>\n",
       "<table border=\"1\" class=\"dataframe\">\n",
       "  <thead>\n",
       "    <tr style=\"text-align: right;\">\n",
       "      <th></th>\n",
       "      <th>sample_number</th>\n",
       "      <th>sample_date</th>\n",
       "      <th>sample_time</th>\n",
       "      <th>sample_site</th>\n",
       "      <th>sample_class</th>\n",
       "      <th>location</th>\n",
       "      <th>residual_free_chlorine</th>\n",
       "      <th>turbidity</th>\n",
       "      <th>fluoride</th>\n",
       "      <th>coliform</th>\n",
       "      <th>e.coli</th>\n",
       "    </tr>\n",
       "  </thead>\n",
       "  <tbody>\n",
       "    <tr>\n",
       "      <th>72704</th>\n",
       "      <td>NaN</td>\n",
       "      <td>2015-01-01T00:00:00.000</td>\n",
       "      <td>09:38</td>\n",
       "      <td>11550</td>\n",
       "      <td>Compliance</td>\n",
       "      <td>SS - IFO 1058 S/S E Gun Hill Rd, 1st SS E/O Ho...</td>\n",
       "      <td>0.74</td>\n",
       "      <td>0.95</td>\n",
       "      <td>NaN</td>\n",
       "      <td>&lt;1</td>\n",
       "      <td>&lt;1</td>\n",
       "    </tr>\n",
       "    <tr>\n",
       "      <th>72705</th>\n",
       "      <td>NaN</td>\n",
       "      <td>2015-01-01T00:00:00.000</td>\n",
       "      <td>08:41</td>\n",
       "      <td>13850</td>\n",
       "      <td>Compliance</td>\n",
       "      <td>SS - IFO 1778 E/S Jerome Ave, 1st SS S/O E 176...</td>\n",
       "      <td>0.59</td>\n",
       "      <td>1.08</td>\n",
       "      <td>NaN</td>\n",
       "      <td>&lt;1</td>\n",
       "      <td>&lt;1</td>\n",
       "    </tr>\n",
       "    <tr>\n",
       "      <th>72706</th>\n",
       "      <td>NaN</td>\n",
       "      <td>2015-01-01T00:00:00.000</td>\n",
       "      <td>09:07</td>\n",
       "      <td>15550</td>\n",
       "      <td>Compliance</td>\n",
       "      <td>SS - IFO 2499 W/S Grand Ave, 1st SS S/O W 190t...</td>\n",
       "      <td>0.54</td>\n",
       "      <td>0.90</td>\n",
       "      <td>NaN</td>\n",
       "      <td>&lt;1</td>\n",
       "      <td>&lt;1</td>\n",
       "    </tr>\n",
       "    <tr>\n",
       "      <th>72707</th>\n",
       "      <td>NaN</td>\n",
       "      <td>2015-01-01T00:00:00.000</td>\n",
       "      <td>11:16</td>\n",
       "      <td>17550</td>\n",
       "      <td>Compliance</td>\n",
       "      <td>SS - IFO 309 N/S E 149th St, 2nd SS W/O Courtl...</td>\n",
       "      <td>0.56</td>\n",
       "      <td>1.00</td>\n",
       "      <td>NaN</td>\n",
       "      <td>&lt;1</td>\n",
       "      <td>&lt;1</td>\n",
       "    </tr>\n",
       "    <tr>\n",
       "      <th>72708</th>\n",
       "      <td>NaN</td>\n",
       "      <td>2015-01-01T00:00:00.000</td>\n",
       "      <td>07:41</td>\n",
       "      <td>20900</td>\n",
       "      <td>Operational</td>\n",
       "      <td>SS - IFO 177 S/S Sands St, btw Gold &amp; Bridge S...</td>\n",
       "      <td>0.54</td>\n",
       "      <td>0.92</td>\n",
       "      <td>NaN</td>\n",
       "      <td>&lt;1</td>\n",
       "      <td>&lt;1</td>\n",
       "    </tr>\n",
       "  </tbody>\n",
       "</table>\n",
       "</div>"
      ],
      "text/plain": [
       "       sample_number              sample_date sample_time sample_site  \\\n",
       "72704            NaN  2015-01-01T00:00:00.000       09:38       11550   \n",
       "72705            NaN  2015-01-01T00:00:00.000       08:41       13850   \n",
       "72706            NaN  2015-01-01T00:00:00.000       09:07       15550   \n",
       "72707            NaN  2015-01-01T00:00:00.000       11:16       17550   \n",
       "72708            NaN  2015-01-01T00:00:00.000       07:41       20900   \n",
       "\n",
       "      sample_class                                           location  \\\n",
       "72704   Compliance  SS - IFO 1058 S/S E Gun Hill Rd, 1st SS E/O Ho...   \n",
       "72705   Compliance  SS - IFO 1778 E/S Jerome Ave, 1st SS S/O E 176...   \n",
       "72706   Compliance  SS - IFO 2499 W/S Grand Ave, 1st SS S/O W 190t...   \n",
       "72707   Compliance  SS - IFO 309 N/S E 149th St, 2nd SS W/O Courtl...   \n",
       "72708  Operational  SS - IFO 177 S/S Sands St, btw Gold & Bridge S...   \n",
       "\n",
       "       residual_free_chlorine turbidity fluoride coliform e.coli  \n",
       "72704                    0.74      0.95      NaN       <1     <1  \n",
       "72705                    0.59      1.08      NaN       <1     <1  \n",
       "72706                    0.54      0.90      NaN       <1     <1  \n",
       "72707                    0.56      1.00      NaN       <1     <1  \n",
       "72708                    0.54      0.92      NaN       <1     <1  "
      ]
     },
     "execution_count": 5,
     "metadata": {},
     "output_type": "execute_result"
    }
   ],
   "source": [
    "df.tail()"
   ]
  },
  {
   "cell_type": "markdown",
   "metadata": {},
   "source": [
    "Here, the sample numbers are NaN. I'll now find out how many of the sample numbers are NaN."
   ]
  },
  {
   "cell_type": "code",
   "execution_count": 6,
   "metadata": {},
   "outputs": [
    {
     "data": {
      "text/plain": [
       "8864"
      ]
     },
     "execution_count": 6,
     "metadata": {},
     "output_type": "execute_result"
    }
   ],
   "source": [
    "len(df[df['sample_number'].isnull()])"
   ]
  },
  {
   "cell_type": "code",
   "execution_count": 7,
   "metadata": {},
   "outputs": [
    {
     "name": "stdout",
     "output_type": "stream",
     "text": [
      "Percentage of NaN sample numbers: 12.19\n"
     ]
    }
   ],
   "source": [
    "percentage = (len(df[df['sample_number'].isnull()])/len(df)) * 100\n",
    "percentage = round(percentage, 2)\n",
    "\n",
    "print('Percentage of NaN sample numbers:', percentage)"
   ]
  },
  {
   "cell_type": "markdown",
   "metadata": {},
   "source": [
    "This might mean I have to get rid of 12% of the data. Now, we can find out how much data would be left over."
   ]
  },
  {
   "cell_type": "code",
   "execution_count": 8,
   "metadata": {},
   "outputs": [
    {
     "name": "stdout",
     "output_type": "stream",
     "text": [
      "Amount of leftover data: 63845 rows\n"
     ]
    }
   ],
   "source": [
    "leftover = len(df) - len(df[df['sample_number'].isnull()])\n",
    "\n",
    "print('Amount of leftover data:', leftover, 'rows')"
   ]
  },
  {
   "cell_type": "markdown",
   "metadata": {},
   "source": [
    "# Possible Tasks\n",
    "\n",
    "### Predicting the chlorine and turbidity\n",
    "\n",
    "If we were to predict the chlorine and turbidity, the following would be the features & labels.\n",
    "\n",
    "1. **Features:** `sample_time`, `sample_site`, `sample_class`, `location`\n",
    "2. **Labels:** `residual_chlorine`, `residual_turbidity`\n",
    "\n",
    "**Benefits:** We have plenty of data for this task (64k rows). We can definitely use some simple linear regression models before moving on to other complicated models.\n",
    "\n",
    "**Challenges:** This would be difficult because all we have is the time, site, class, and location. We would need to figure out a way to represent location and the time. We also wouldn't have too many features, because we would be predicted one or two things based on just 4 features.\n",
    "\n",
    "**Things to do if we choose this:** We need to do some research on chlorine and turbidity - understand what they are, what they mean, etc.\n"
   ]
  }
 ],
 "metadata": {
  "kernelspec": {
   "display_name": "Python 3",
   "language": "python",
   "name": "python3"
  },
  "language_info": {
   "codemirror_mode": {
    "name": "ipython",
    "version": 3
   },
   "file_extension": ".py",
   "mimetype": "text/x-python",
   "name": "python",
   "nbconvert_exporter": "python",
   "pygments_lexer": "ipython3",
   "version": "3.7.7"
  }
 },
 "nbformat": 4,
 "nbformat_minor": 4
}
